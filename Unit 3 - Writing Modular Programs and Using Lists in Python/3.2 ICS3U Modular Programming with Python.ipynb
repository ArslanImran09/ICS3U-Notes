{
 "cells": [
  {
   "cell_type": "markdown",
   "metadata": {},
   "source": [
    "# ICS3U Modular Programming with Python\n",
    "## ICS3U Learning Goals\n",
    "In this ICS3U Grade 11 Computer Science lesson you will be learning to:\n",
    "\n",
    "- Understand the basic idea behind top down analysis\n",
    "\n",
    "- Take a larger problem and break it down into smaller modules\n",
    "\n",
    "- Create a function that accepts parameters and returns a value\n",
    "\n",
    "- Call functions from the main computer code and receive return values if necessary"
   ]
  },
  {
   "cell_type": "markdown",
   "metadata": {},
   "source": [
    "## Top Down Analysis\n",
    "You are going to learn about a problem solving technique called Top Down Analysis and Stepwise Refinement.\n",
    "\n",
    "[Video](https://youtu.be/PRcTIFzk-4k)\n",
    "\n",
    "### <u>Example of Modular Design</u>\n",
    "\n",
    "Suppose you were asked to find the median of a list of numbers. Remember the median is the middle number in an ordered list. The modules needed to solve the problem might be\n",
    "\n",
    "- Input the List\n",
    "\n",
    "- Sort the Data\n",
    "\n",
    "    - Swap the Data\n",
    "\n",
    "- Pick the Middle Number\n",
    "\n",
    "    - Find the average\n",
    "\n",
    "- Output the Middle Number\n",
    "\n",
    "### **Input the list**\n",
    "\n",
    "- Use a loop to get the data from the user\n",
    "\n",
    "- Store the data in an array\n",
    "\n",
    "### **Sort The Data Module**\n",
    "\n",
    "- Use a loop to cycle through each piece of data\n",
    "\n",
    "- Compare Current Value to Next Value, if out of order then call swap module\n",
    "\n",
    "- Repeat until the list is sorted\n",
    "\n",
    "### **Swap Module**\n",
    "\n",
    "- Store data in temp variable\n",
    "\n",
    "- Overwrite current value\n",
    "\n",
    "- Write temp variable to the array\n",
    "\n",
    "### **Pick Middle Module**\n",
    "\n",
    "- If list is odd -> Only one middle number, so pick it\n",
    "\n",
    "- If list is even -> Two middle numbers, find the average\n",
    "\n",
    "### **Average Module**\n",
    "\n",
    "- Add two numbers and divide by 2\n",
    "\n",
    "### **Output Results**\n",
    "\n",
    "- Print middle number to the screen\n",
    "\n",
    "<br>\n",
    "\n",
    "When using modular programming, your code will generally look as follows:\n",
    "\n",
    "- You define the modules at the top of your program\n",
    "\n",
    "- You define a “main” module for your program underneath them that uses all the functions and solves a particular problem"
   ]
  },
  {
   "cell_type": "markdown",
   "metadata": {},
   "source": [
    "<br>\n",
    "\n",
    "## Writing Modules in Python\n",
    "Usually we use the term function in python to represent a module. You might hear them called methods as well. (There is a difference, but it has to do with some more advanced topics in Object Oriented Programming, which is part of the ICS4U Course) You have already used a lot of python functions when writing your previous programs.\n",
    "\n",
    "- print()\n",
    "- input()\n",
    "- int()\n",
    "- len()\n",
    "- sqrt()\n",
    "- etc….\n",
    "\n",
    "These are functions that execute code internally (that you can’t see) but you can learn how to use. The print function might have 20 lines of code in it, so imagine how long and confusing your programs would be if you had to write those 20 lines every time you wanted to print something.\n",
    "\n",
    "We want to be able to create our own functions that accomplish very small and specific tasks.\n",
    "\n",
    "Before a function can be usedd, it must be defined. That is, you define the rules of how the function will behave when used. – A function contains a **header** and a **body**\n",
    "\n",
    "### **The Header**\n",
    "\n",
    "Sets up the name of the function, it might also have a parameter list\n",
    "\n",
    "- The **name** should reflect the task that the function performs. It should follow the same naming conventions that you would use for variables\n",
    "\n",
    "- The **parameter** list consists of the data the function needs to perform the task. The list is formed by specifying a variable to hold the data sent to it \n",
    "    - For Example, the sqrt() function requires a number to be sent to it in order to work.\n",
    "    - For Example, the len() function requires a list to be sent to it in order to work\n",
    "\n",
    "### **The Body**\n",
    "\n",
    "Contains the code to accomplish the task of function.\n",
    "\n",
    "- It uses the parameter values that are sent to it to accomplish its tasks\n",
    "\n",
    "- The function might return a value back to the location at which it was called in order to be used in the main part of your program\n",
    "\n",
    "    - Both the sqrt() and len() function send a result back to your program that you then store in a variable and use to solve a problem\n",
    "\n",
    "- The code for the body of the function must be indented (Similar if statements and loops)"
   ]
  },
  {
   "cell_type": "markdown",
   "metadata": {},
   "source": [
    "<br>\n",
    "\n",
    "## Example - Slope Program\n",
    "Suppose you wanted to create a program that calculates a bunch of slopes of different line segments.\n",
    "\n",
    "It would be useful in this program to create a function that calculated the slope of a line given two points (x1,y1) and (x2,y2).  In order to accomplish this task, you would use the following formula\n",
    "\n",
    "$$\n",
    "\\begin{aligned}\n",
    "m = \\frac{y_2 - y_1}{x_2 - x_1}\n",
    "\\end{aligned}\n",
    "$$\n",
    "\n",
    "The function needs to accept those 4 values to it and it needs to send the answer back to the main program so that answer could be used in some way afterwards"
   ]
  },
  {
   "cell_type": "markdown",
   "metadata": {},
   "source": [
    "<br>\n",
    "\n",
    "## Interactive Learning Activity - Grade 11 Computer Science\n",
    "Type the following code into the Python Editor and run the program with different values for inputs\n",
    "\n",
    "```\n",
    "#Function Definitions\n",
    "def slope(x1,y1,x2,y2):\n",
    "    m = (y2 - y1) / (x2 - x1)\n",
    "    return m\n",
    "\n",
    "#Main Program that solves a problem\n",
    "def main():\n",
    "    while True:\n",
    "\n",
    "        #Get points from the user\n",
    "        point1x = float(input(\"Enter x1: \"))\n",
    "        point1y = float(input(\"Enter y1: \"))\n",
    "        point2x = float(input(\"Enter x2: \"))\n",
    "        point2y = float(input(\"Enter y2: \"))\n",
    "\n",
    "        #Send values to the function to process and get answer\n",
    "        userSlope = slope(point1x,point1y,point2x,point2y)\n",
    "\n",
    "        #Output values\n",
    "        print(\"Your line has a slope of: \", userSlope)\n",
    "\n",
    "        #Stop?\n",
    "        choice = input(\"Stop? Enter Yes, otherwise hit enter to continue\")\n",
    "        if choice.upper() == \"YES\":\n",
    "            break\n",
    "\n",
    "\n",
    "#Call the main function to start your code running\n",
    "main()\n",
    "```"
   ]
  },
  {
   "cell_type": "code",
   "execution_count": null,
   "metadata": {},
   "outputs": [],
   "source": [
    "# TODO: Type the code here:\n"
   ]
  },
  {
   "cell_type": "markdown",
   "metadata": {},
   "source": [
    "<br>\n",
    "\n",
    "## Functions without Return values or Parameters\n",
    "Not all functions would necessarily need to return a value. Here is the definition of a function that prints out your credentials. This might be useful at the bottom of an email to save the user from having to type his contact information"
   ]
  },
  {
   "cell_type": "code",
   "execution_count": null,
   "metadata": {},
   "outputs": [],
   "source": [
    "def signature():\n",
    "\tprint(\"Teacher Name\")\n",
    "\tprint(\"905 - 555 -5555\")\n",
    "\tprint(\"teacher@school.com\")"
   ]
  },
  {
   "cell_type": "markdown",
   "metadata": {},
   "source": [
    "\n",
    "Here is a definition of a function that prints out values of a list, one per line."
   ]
  },
  {
   "cell_type": "code",
   "execution_count": null,
   "metadata": {},
   "outputs": [],
   "source": [
    "def printList(l):\n",
    "    for i in range(0,len(l)):\n",
    "        print(l[i])"
   ]
  },
  {
   "cell_type": "markdown",
   "metadata": {},
   "source": [
    "They would be called just the same as every other function, but no need to assign them to a variable"
   ]
  },
  {
   "cell_type": "code",
   "execution_count": null,
   "metadata": {},
   "outputs": [],
   "source": [
    "#Main Program\n",
    "def main():\n",
    "\n",
    "\n",
    "    myList = [3,4,5,6,7]\n",
    "\n",
    "    #Call printlist Function\n",
    "    printList(myList)\n",
    "\n",
    "    #Call signature Function\n",
    "    signature()"
   ]
  },
  {
   "cell_type": "markdown",
   "metadata": {},
   "source": [
    "<br>\n",
    "\n",
    "## Other Examples\n",
    "Here are some other list and string functions that might be useful as well when solving problems\n",
    "\n",
    "### <u>Changing a list to a String</u>\n",
    "\n",
    "- This function accepts a list as a parameter\n",
    "\n",
    "- It creates a String using that list\n",
    "\n",
    "- The function returns that String value"
   ]
  },
  {
   "cell_type": "code",
   "execution_count": null,
   "metadata": {},
   "outputs": [],
   "source": [
    "def listToString(l):\n",
    "\ts = \"\"\n",
    "\tfor i in range(0,len(l)):\n",
    "\t\ts = s + l[i]\n",
    "\n",
    "\treturn s"
   ]
  }
 ],
 "metadata": {
  "language_info": {
   "name": "python"
  }
 },
 "nbformat": 4,
 "nbformat_minor": 2
}
