{
 "cells": [
  {
   "cell_type": "markdown",
   "metadata": {},
   "source": [
    "# ICS3U Python Programming Evaluation 4\n",
    "\n",
    "## Instructions\n",
    "These ICS3U Grade 11 Computer Science python coding questions will form a part of your final grade for this course and are to be handed in for grading. \n",
    "\n",
    "For all of the following questions:\n",
    "\n",
    "- Use a Python IDE of your choice (Spyder, IDLE, Pycharm, etc) and create a coded solution to the given problem.\n",
    "\n",
    "- Hand in the .py files for your solution.\n",
    "\n",
    "Your grade will be based on your ability to demonstrate the overall expectations from the Ontario Computer Studies Curriculum\n",
    "\n",
    "<details>\n",
    "<summary>Overall Expectations Being Evaluated</summary>\n",
    "\n",
    "A1 – Data Sequencing \n",
    "\n",
    "- Use variables to carry out mathematical calculations in a computational proble\n",
    "\n",
    "A2 – Selection and Repetition Structures\n",
    "\n",
    "- Incorporate selection structures into a computer program.\n",
    "\n",
    "B3 – Algorithm Design\n",
    "\n",
    "- Design and implement algorithms that solve problems\n",
    "</details>\n"
   ]
  },
  {
   "cell_type": "markdown",
   "metadata": {},
   "source": [
    "<br>\n",
    "\n",
    "## ICS3U Python Programming Evaluation Question 1\n",
    "\n",
    "File Name:  `ICS3Utip.py`\n",
    "\n",
    "You are going to write a tip calculating program that does the following\n",
    "\n",
    "- Asks the user to enter the subtotal of a restaurant bill\n",
    "\n",
    "- Asks the user if they wish to enter a tip and if they do, let them choose to enter the tip by a specific amount, or by percentage of the subtotal.\n",
    "\n",
    "- Display the receipt:  Subtotal, Taxed Owed (13%), Tip, Final Total"
   ]
  },
  {
   "cell_type": "markdown",
   "metadata": {},
   "source": [
    "<br>\n",
    "\n",
    "## ICS3U Python Programming Evaluation Question 2\n",
    "\n",
    "File Name: `ICS3UtriangleType.py`\n",
    "\n",
    "You are creating a program to distinguish between different types of triangles\n",
    "\n",
    "Have your program read in 3 angles (in degrees) from the user\n",
    "\n",
    "- If all three angles are 60, output Equilateral\n",
    "\n",
    "- If the three angles add up to 180 and exactly two of the angles are the same, output Isosceles\n",
    "\n",
    "- If the three angles add up to 180 and no two angles are the same, output Scalene\n",
    "\n",
    "- If the 3 angles do not add up to 180 or any of the angles are 0 or negative, output Not a Triangle"
   ]
  },
  {
   "cell_type": "markdown",
   "metadata": {},
   "source": [
    "<br>\n",
    "\n",
    "## ICS3U Python Programming Evaluation Question 3\n",
    "\n",
    "File Name: `ICS3Uradar.py`\n",
    "\n",
    "Cities have radar signs that indicate to drivers that they are going too fast.  You are going to write a program that outputs the Fine $ given to a driver for going a certain speed over the limit.\n",
    "\n",
    "- 1 to 20 km/h over the limit = $100 Fine\n",
    "\n",
    "- 21 to 30 km/h over the limit = $250 Fine\n",
    "\n",
    "- 31 or more km/h over the limit = $500 Fine\n",
    "\n",
    "Your program needs to have the speed limit and recorded driver speed as the input and the $ amount of the Fine as the output"
   ]
  }
 ],
 "metadata": {
  "language_info": {
   "name": "python"
  }
 },
 "nbformat": 4,
 "nbformat_minor": 2
}
