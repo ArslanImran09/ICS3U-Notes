{
 "cells": [
  {
   "cell_type": "markdown",
   "metadata": {},
   "source": [
    "# Homework 3 : Python Selection Structures\n",
    "\n",
    "- 2.1 HW 1, 2, 3, 4, 5, 6\n",
    "  \n",
    "## ICS3U Coding Questions\n",
    "\n",
    "Try to code the following ICS3U questions using an IDE of your choice (Spyder, IDLE, Pycharm, etc).  You will save those files on your computer for future reference.\n",
    "\n",
    "Make sure you are completing the Input-Processing-Output Problem Solving Process before you start your code.  Clearly evaluate the solution when finished.\n",
    "\n",
    "Each question has:\n",
    "\n",
    "- A video of your teacher live coding and explaining the solution\n",
    "\n",
    "- The final code used in the video.\n",
    "\n",
    "Try your best to solve the problems yourself without looking at the solutions.\n",
    "\n",
    "Make sure you test your programs with multiple different inputs to ensure it is functioning properly."
   ]
  },
  {
   "cell_type": "markdown",
   "metadata": {},
   "source": [
    "<br>\n",
    "\n",
    "# 2.1 HW1: ICS3U Practice Question\n",
    "Name Your File:  `ICS3Udriving.py` \n",
    "\n",
    "Write a program that asks the user to enter their age.  Print out a statement if they are able to drive or not.  "
   ]
  },
  {
   "cell_type": "code",
   "execution_count": 6,
   "metadata": {},
   "outputs": [
    {
     "name": "stdout",
     "output_type": "stream",
     "text": [
      "Get older before you can drive nerd.\n"
     ]
    }
   ],
   "source": [
    "age = float(input(\"Please enter your age\"))\n",
    "if age >= 18 : print(\"You are old enough to drive.\")\n",
    "if age < 18 : print(\"Get older before you can drive nerd.\")"
   ]
  },
  {
   "cell_type": "markdown",
   "metadata": {},
   "source": [
    "<br>\n",
    "\n",
    "# 2.1 HW2: ICS3U Practice Question\n",
    "Name Your File:  `ICS3UvolumeChoice.py` \n",
    "\n",
    "Write a program that calculates the volume of a 3D shape chosen by the user.  Give the user a choice between a Rectangular Prism, Cylinder, Sphere.  You will need to research the correct formulas if you can’t remember from your previous Math courses."
   ]
  },
  {
   "cell_type": "code",
   "execution_count": null,
   "metadata": {},
   "outputs": [
    {
     "name": "stdout",
     "output_type": "stream",
     "text": [
      "The volume of the cylinder is 113.1 cm\n"
     ]
    }
   ],
   "source": [
    "import math\n",
    "x = float(input(\"Input the value 1 to find the volume of a sphere, 2 for the volume of a rectangular prism, and 3 for the volume of a cylinder.\"))\n",
    "if x == 1 : r = float(input(\"Enter the value of radius in cm\"))\n",
    "if x == 1 : Volume = round((4/3)*math.pi*math.pow(r, 3), 2)\n",
    "if x == 1 : print(\"The volume of the cylinder is\", Volume,\"cm\")\n",
    "if x == 2 : "
   ]
  },
  {
   "cell_type": "markdown",
   "metadata": {},
   "source": [
    "<br>\n",
    "\n",
    "# 2.1 HW3: ICS3U Practice Question\n",
    "Name Your File:  `ICS3Uvoting.py`\n",
    "\n",
    "You can vote if you are 18 years and a citizen of the country. Write a program that ask the user their age and if they are a citizen and displays if they can vote or not"
   ]
  },
  {
   "cell_type": "markdown",
   "metadata": {},
   "source": [
    "<br>\n",
    "\n",
    "# 2.1 HW4: ICS3U Practice Question\n",
    "Name Your File:  `ICS3UageSelection.py` \n",
    "\n",
    "Write a program that asks for the user’s age. If the user is under 9, output, “You are a young child”. For 9 to 17, output, “You are a child”. From 18 to 65, “You are an adult”. Over 65, “You are a senior”."
   ]
  },
  {
   "cell_type": "code",
   "execution_count": null,
   "metadata": {},
   "outputs": [
    {
     "name": "stdout",
     "output_type": "stream",
     "text": [
      "Solution 1 Result: You are an adult \n",
      " Solution 2 Result: You are a child\n"
     ]
    }
   ],
   "source": [
    "# Solution 1\n",
    "age = int(input(\"Enter your age\"))\n",
    "def solution_1(age):\n",
    "    if age < 9:\n",
    "        return \"You are a young child\"\n",
    "    elif 9 <= age and age <= 17:\n",
    "        return \"You are a child\"\n",
    "    elif 17 <= age and age < 65:\n",
    "        return \"You are an adult\"\n",
    "    else:\n",
    "        return \"You are a senior\"\n",
    "\n",
    "# Solution 2: Only use `if` and only use `age >= Num`\n",
    "def solution_2(age):\n",
    "    if age >= 65:\n",
    "        return \"You are a senior\"\n",
    "    if age >= 17:\n",
    "        return \"You are an adult\"\n",
    "    if age >= 9:\n",
    "        return \"You are a young child\"\n",
    "    if age >= 0:\n",
    "        return \"You are a child\"\n",
    "\n",
    "# Solution 3: Only use `if` and only use `age <= Num`\n",
    "def solution_3(age):\n",
    "    if age <= 9:\n",
    "        return \"You are a child\"\n",
    "    if age <= 17:\n",
    "        return \"You are a young child\"\n",
    "    if age <= 65:\n",
    "        return \"You are an adult\"\n",
    "    else:\n",
    "        return \"You are a senior\"\n",
    "\n",
    "print(\" Solution 1 Result:\", solution_1(age),\"\\n Solution 2 Result:\",solution_2(age))\n"
   ]
  },
  {
   "cell_type": "markdown",
   "metadata": {},
   "source": [
    "<br>\n",
    "\n",
    "# 2.1 HW5: ICS3U Practice Question\n",
    "Name Your File:  “ICS3UcarSeat.py” \n",
    "\n",
    "Use the information on this webpage to write a program to help parents decide what car seat they should use. Pick your province.\n",
    "\n",
    "https://www.babycenter.ca/a25019253/canadian-car-seat-laws-by-province-and-territory\n",
    "\n"
   ]
  },
  {
   "cell_type": "markdown",
   "metadata": {},
   "source": [
    "<br>\n",
    "\n",
    "# 2.1 HW6: ICS3U Practice Question\n",
    "Name Your File:  `ICS3UcellPlan.py` \n",
    "\n",
    "Write a program that calculates the cost of a cell phone plan. The user will enter the following monthly amounts\n",
    "\n",
    "Daytime voice minutes, Evening Voice Minutes, Weeked Voice Minutes, gB of data Used\n",
    "\n",
    "The cost of the plan is as follows\n",
    "\n",
    "- 100 free day time minutes and then 25 cents per minute after that\n",
    "\n",
    "- 15 cents per evening minute\n",
    "\n",
    "- 20 cents per weekend minute to a maximum of 15 dollars\n",
    "\n",
    "- 30 dollars for 4gB and then 1.5 dollars per gB after that"
   ]
  }
 ],
 "metadata": {
  "kernelspec": {
   "display_name": "Python 3",
   "language": "python",
   "name": "python3"
  },
  "language_info": {
   "codemirror_mode": {
    "name": "ipython",
    "version": 3
   },
   "file_extension": ".py",
   "mimetype": "text/x-python",
   "name": "python",
   "nbconvert_exporter": "python",
   "pygments_lexer": "ipython3",
   "version": "3.12.1"
  }
 },
 "nbformat": 4,
 "nbformat_minor": 2
}
