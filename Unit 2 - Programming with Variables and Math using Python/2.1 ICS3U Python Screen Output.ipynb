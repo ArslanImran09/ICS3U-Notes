{
 "cells": [
  {
   "cell_type": "markdown",
   "metadata": {},
   "source": [
    "# ICS3U Python Screen Output\n",
    "\n",
    "## ICS3U Learning Goals\n",
    "\n",
    "In this ICS3U Grade 11 Computer Science lesson you will be learning how to:\n",
    "\n",
    "Display messages for the user to the screen using a print statement\n",
    "Use escape characters in print statements"
   ]
  },
  {
   "cell_type": "markdown",
   "metadata": {},
   "source": [
    "<br>\n",
    "\n",
    "# Writing Messages to the Screen using Python\n",
    "\n",
    "Words or sentences in python are called Strings\n",
    "\n",
    "The command to display things to the screen is the print command\n",
    "\n",
    "```\n",
    "print()\n",
    "```\n",
    "\n",
    "The statement you want to print goes inside the print command brackets and is surrounded by either\n",
    "\n",
    "- double quotes or\n",
    "- single quotes\n",
    "\n",
    "Normally I stick to using double quotes because in other programming languages such as Java and C/C#/C++ that is the convention and single quotes are used for single characters in those languages."
   ]
  },
  {
   "cell_type": "markdown",
   "metadata": {},
   "source": [
    "## Interactive Learning Activity - Grade 11 Computer Science\n",
    "\n",
    "Type the following code into the Python Editor.\n",
    "\n",
    "```\n",
    "print(\"Hello World\")\n",
    "```"
   ]
  },
  {
   "cell_type": "code",
   "execution_count": 3,
   "metadata": {},
   "outputs": [
    {
     "data": {
      "text/plain": [
       "5.0"
      ]
     },
     "execution_count": 3,
     "metadata": {},
     "output_type": "execute_result"
    }
   ],
   "source": [
    "C = 3\n",
    "B = 4\n",
    "math.pow((C**2 + B**2), 1/2)"
   ]
  },
  {
   "cell_type": "markdown",
   "metadata": {},
   "source": [
    "print(\"no u\")"
   ]
  },
  {
   "cell_type": "markdown",
   "metadata": {},
   "source": [
    "## Interactive Learning Activity - Grade 11 Computer Science\n",
    "Type the following code into the Python Editor.\n",
    "\n",
    "```\n",
    "print(\"Hello\")\n",
    "print(\"World\")\n",
    "```"
   ]
  },
  {
   "cell_type": "code",
   "execution_count": 7,
   "metadata": {},
   "outputs": [
    {
     "name": "stdout",
     "output_type": "stream",
     "text": [
      "Hi\n",
      "World\n"
     ]
    }
   ],
   "source": [
    "\n"
   ]
  },
  {
   "cell_type": "markdown",
   "metadata": {},
   "source": [
    "If you want for some reason to use use multiple print statements but have them display on the same line you can use the end=”” command.   You can put any character you want in the double quotes and that will appear at the end of the print statement and not move the cursor to the next line.  "
   ]
  },
  {
   "cell_type": "markdown",
   "metadata": {},
   "source": [
    "## Interactive Learning Activity - Grade 11 Computer Science\n",
    "Type the following code into the Python Editor.\n",
    "\n",
    "```\n",
    "print(\"Hello\",end=\"\")\n",
    "print(\"World\")\n",
    "```"
   ]
  },
  {
   "cell_type": "code",
   "execution_count": 3,
   "metadata": {},
   "outputs": [
    {
     "data": {
      "text/plain": [
       "3.141592653589793"
      ]
     },
     "execution_count": 3,
     "metadata": {},
     "output_type": "execute_result"
    }
   ],
   "source": [
    "import math\n",
    "math.pi"
   ]
  },
  {
   "cell_type": "code",
   "execution_count": 1,
   "metadata": {},
   "outputs": [
    {
     "name": "stdout",
     "output_type": "stream",
     "text": [
      "Johnny's 69th birthday\n",
      "\n",
      "First item: Nokia cellphone = $200\n",
      "Second item: Yacht = $50000000\n",
      "Third item: Mcdonald nuggets = $5\n",
      "\n",
      "Total amount of money = $50000205\n"
     ]
    }
   ],
   "source": [
    "print(\"Johnny's 69th birthday\\n\\nFirst item: Nokia cellphone = $200\\nSecond item: Yacht = $50000000\\nThird item: Mcdonald nuggets = $5\\n\\nTotal amount of money = $50000205\")"
   ]
  },
  {
   "cell_type": "markdown",
   "metadata": {},
   "source": [
    "## Interactive Learning Activity - Grade 11 Computer Science\n",
    "A common error you might make is to forget a double quote (You always need a pair) or to forget a bracket (You always need a pair)\n",
    "\n",
    "Type the following code into the Python Editor and see what happens when you try to run it.\n",
    "\n",
    "```\n",
    "print(\"Hello\"\n",
    "```"
   ]
  },
  {
   "cell_type": "code",
   "execution_count": 130,
   "metadata": {},
   "outputs": [
    {
     "name": "stdout",
     "output_type": "stream",
     "text": [
      "Hello, my name is Joe (mama) and I study in Tia through the Toronto District School Board.\n",
      "I like to listen to jazz and watch Tom and jerry, my favourite movie is whiplash and my favourite colour is red.\n",
      "My favourite subject is maths and I like to play soccer.\n"
     ]
    }
   ],
   "source": [
    "print(\"Hello, my name is Joe (mama) and I study in Tia through the Toronto District School Board.\\nI like to listen to jazz and watch Tom and jerry, my favourite movie is whiplash and my favourite colour is red.\\nMy favourite subject is maths and I like to play soccer.\")\n"
   ]
  },
  {
   "cell_type": "markdown",
   "metadata": {},
   "source": [
    "Type the following code into the Python Editor and see what happens when you try to run it.\n",
    "\n",
    "```\n",
    "print(\"Hello)\n",
    "```"
   ]
  },
  {
   "cell_type": "code",
   "execution_count": 1,
   "metadata": {},
   "outputs": [
    {
     "data": {
      "text/plain": [
       "1"
      ]
     },
     "execution_count": 1,
     "metadata": {},
     "output_type": "execute_result"
    }
   ],
   "source": [
    "5 % 2\n"
   ]
  },
  {
   "cell_type": "markdown",
   "metadata": {},
   "source": [
    "<br>\n",
    "\n",
    "Certain characters or print options need a special way to print.  These are called escape characters\n",
    "\n",
    "- Use \\” to print a double quote\n",
    "\n",
    "- Use \\’ to print a single quote\n",
    "\n",
    "- Use \\t to print a tab\n",
    "\n",
    "- Use \\n to go to the next line\n",
    "\n",
    "- Use \\\\ to print a slash "
   ]
  },
  {
   "cell_type": "markdown",
   "metadata": {},
   "source": [
    "## Interactive Learning Activity - Grade 11 Computer Science\n",
    "Type the following code into the Python Editor.\n",
    "\n",
    "```\n",
    "print(\"\\tBook Title\\n\\\"Harry Potter\\\"\")\n",
    "```"
   ]
  },
  {
   "cell_type": "code",
   "execution_count": 1,
   "metadata": {},
   "outputs": [
    {
     "name": "stdout",
     "output_type": "stream",
     "text": [
      "I said \"you suck\"\n"
     ]
    }
   ],
   "source": [
    "print(\"I said \\\"you suck\\\"\")"
   ]
  },
  {
   "cell_type": "markdown",
   "metadata": {},
   "source": [
    "<br>\n",
    "\n",
    "# External Resources\n",
    "\n",
    "- [Python Documentation](https://www.w3schools.com/python/)\n",
    "\n",
    "- [Python Tutorial](https://www.learnpython.org/)\n",
    "\n",
    "- [Cool Python Lessons](https://realpython.com/)"
   ]
  }
 ],
 "metadata": {
  "kernelspec": {
   "display_name": "Python 3",
   "language": "python",
   "name": "python3"
  },
  "language_info": {
   "codemirror_mode": {
    "name": "ipython",
    "version": 3
   },
   "file_extension": ".py",
   "mimetype": "text/x-python",
   "name": "python",
   "nbconvert_exporter": "python",
   "pygments_lexer": "ipython3",
   "version": "3.12.1"
  }
 },
 "nbformat": 4,
 "nbformat_minor": 2
}
