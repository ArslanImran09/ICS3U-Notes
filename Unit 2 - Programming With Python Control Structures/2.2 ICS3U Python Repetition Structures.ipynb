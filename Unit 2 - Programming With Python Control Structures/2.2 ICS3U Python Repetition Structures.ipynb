{
 "cells": [
  {
   "cell_type": "markdown",
   "metadata": {},
   "source": [
    "# ICS3U Python Repetition Structures\n",
    "## ICS3U Learning Goals\n",
    "In this ICS3U Grade 11 Computer Science lesson you will be learning to:\n",
    "\n",
    "- Trace through a flowchart of a loop and determine the value of the variables after the loop finishes\n",
    "\n",
    "- Write while and for loops that execute code blocks a specific number of times\n",
    "\n",
    "- Write loops that stop using a break statement, flag or conditional statement\n",
    "\n",
    "- Write code that uses nested loop structures"
   ]
  },
  {
   "cell_type": "markdown",
   "metadata": {},
   "source": [
    "<br>\n",
    "\n",
    "## Repetitive Code\n",
    "Computer software has the ability to repeat sets of code over and over and over again very quickly. This turns out to be very advantageous when solving particular types of computational problems. These programming structures are often called loops.\n",
    "\n",
    "These structures work very much like if statements, but where an if statement only executes the code ONE time when the comparison is true, a loop will repeat the code inside it indefinitely while the comparison is true. Only when the comparison becomes false will the code inside a loop stop executing. In this lesson you will see various strategies that you can use to make the loop execute the correct number of times before stopping\n",
    "\n",
    "Python contains two types of looping structures:\n",
    "\n",
    "- While Loops\n",
    "\n",
    "- For Loops\n",
    "\n",
    "There are also generally 3 types of ways we would use those structures to solve problems\n",
    "\n",
    "- Counted Loops – You control how many times a loop executes with a counter variable\n",
    "\n",
    "- Conditional Loops – The loop continues to execute forever, until some condition makes it stop \n",
    "\n",
    "- Nested Loops – loops inside other loops"
   ]
  }
 ],
 "metadata": {
  "language_info": {
   "name": "python"
  }
 },
 "nbformat": 4,
 "nbformat_minor": 2
}
