{
 "cells": [
  {
   "cell_type": "markdown",
   "metadata": {},
   "source": [
    "# ICS3U Python Screen Output\n",
    "\n",
    "## Writing Messages to the Screen using Python\n",
    "\n",
    "Words or sentences in python are called Strings\n",
    "\n",
    "The command to display things to the screen is the print command\n",
    "\n",
    "```\n",
    "print()\n",
    "```\n",
    "\n",
    "The statement you want to print goes inside the print command brackets and is surrounded by either\n",
    "\n",
    "- double quotes or\n",
    "- single quotes\n",
    "\n",
    "Normally I stick to using double quotes because in other programming languages such as Java and C/C#/C++ that is the convention and single quotes are used for single characters in those languages."
   ]
  },
  {
   "cell_type": "markdown",
   "metadata": {},
   "source": [
    "## Interactive Learning Activity - Grade 11 Computer Science\n",
    "\n",
    "Type the following code into the Python Editor.\n",
    "\n",
    "```\n",
    "print(\"Hello World\")\n",
    "```"
   ]
  },
  {
   "cell_type": "code",
   "execution_count": null,
   "metadata": {},
   "outputs": [
    {
     "name": "stdout",
     "output_type": "stream",
     "text": [
      "Hello World\n"
     ]
    }
   ],
   "source": [
    "# TODO: Type the code here:\n"
   ]
  },
  {
   "cell_type": "markdown",
   "metadata": {},
   "source": [
    "## Interactive Learning Activity - Grade 11 Computer Science\n",
    "Type the following code into the Python Editor.\n",
    "\n",
    "```\n",
    "print(\"Hello\")\n",
    "print(\"World\")\n",
    "```"
   ]
  },
  {
   "cell_type": "code",
   "execution_count": null,
   "metadata": {},
   "outputs": [
    {
     "name": "stdout",
     "output_type": "stream",
     "text": [
      "Hello\n",
      "World\n"
     ]
    }
   ],
   "source": [
    "# TODO: Type the code here:\n"
   ]
  },
  {
   "cell_type": "markdown",
   "metadata": {},
   "source": [
    "If you want for some reason to use use multiple print statements but have them display on the same line you can use the end=”” command.   You can put any character you want in the double quotes and that will appear at the end of the print statement and not move the cursor to the next line.  "
   ]
  },
  {
   "cell_type": "markdown",
   "metadata": {},
   "source": [
    "## Interactive Learning Activity - Grade 11 Computer Science\n",
    "Type the following code into the Python Editor.\n",
    "\n",
    "```\n",
    "print(\"Hello\",end=\"\")\n",
    "print(\"World\")\n",
    "```"
   ]
  },
  {
   "cell_type": "code",
   "execution_count": null,
   "metadata": {},
   "outputs": [
    {
     "name": "stdout",
     "output_type": "stream",
     "text": [
      "HelloWorld\n"
     ]
    }
   ],
   "source": [
    "# TODO: Type the code here:\n"
   ]
  },
  {
   "cell_type": "markdown",
   "metadata": {},
   "source": [
    "## Interactive Learning Activity - Grade 11 Computer Science\n",
    "A common error you might make is to forget a double quote (You always need a pair) or to forget a bracket (You always need a pair)\n",
    "\n",
    "Type the following code into the Python Editor and see what happens when you try to run it.\n",
    "\n",
    "```\n",
    "print(\"Hello\"\n",
    "```"
   ]
  },
  {
   "cell_type": "code",
   "execution_count": null,
   "metadata": {},
   "outputs": [
    {
     "ename": "SyntaxError",
     "evalue": "incomplete input (1647630127.py, line 1)",
     "output_type": "error",
     "traceback": [
      "\u001b[0;36m  Cell \u001b[0;32mIn[4], line 1\u001b[0;36m\u001b[0m\n\u001b[0;31m    print(\"Hello\"\u001b[0m\n\u001b[0m                 ^\u001b[0m\n\u001b[0;31mSyntaxError\u001b[0m\u001b[0;31m:\u001b[0m incomplete input\n"
     ]
    }
   ],
   "source": [
    "# TODO: Type the code here:\n"
   ]
  },
  {
   "cell_type": "markdown",
   "metadata": {},
   "source": [
    "Type the following code into the Python Editor and see what happens when you try to run it.\n",
    "\n",
    "```\n",
    "print(\"Hello)\n",
    "```"
   ]
  },
  {
   "cell_type": "code",
   "execution_count": null,
   "metadata": {},
   "outputs": [
    {
     "ename": "SyntaxError",
     "evalue": "unterminated string literal (detected at line 1) (1371898898.py, line 1)",
     "output_type": "error",
     "traceback": [
      "\u001b[0;36m  Cell \u001b[0;32mIn[9], line 1\u001b[0;36m\u001b[0m\n\u001b[0;31m    print(\"Hello)\u001b[0m\n\u001b[0m          ^\u001b[0m\n\u001b[0;31mSyntaxError\u001b[0m\u001b[0;31m:\u001b[0m unterminated string literal (detected at line 1)\n"
     ]
    }
   ],
   "source": [
    "# TODO: Type the code here:\n"
   ]
  },
  {
   "cell_type": "markdown",
   "metadata": {},
   "source": [
    "Certain characters or print options need a special way to print.  These are called escape characters\n",
    "\n",
    "- Use \\” to print a double quote\n",
    "\n",
    "- Use \\’ to print a single quote\n",
    "\n",
    "- Use \\t to print a tab\n",
    "\n",
    "- Use \\n to go to the next line\n",
    "\n",
    "- Use \\\\ to print a slash "
   ]
  },
  {
   "cell_type": "markdown",
   "metadata": {},
   "source": [
    "## Interactive Learning Activity - Grade 11 Computer Science\n",
    "Type the following code into the Python Editor.\n",
    "\n",
    "```\n",
    "print(\"\\tBook Title\\n\\\"Harry Potter\\\"\")\n",
    "```"
   ]
  },
  {
   "cell_type": "code",
   "execution_count": null,
   "metadata": {},
   "outputs": [
    {
     "name": "stdout",
     "output_type": "stream",
     "text": [
      "\tBook Title\n",
      "\"Harry Potter\"\n"
     ]
    }
   ],
   "source": [
    "# TODO: Type the code here:"
   ]
  },
  {
   "cell_type": "markdown",
   "metadata": {},
   "source": [
    "## ICS3U Coding Questions\n",
    "\n",
    "Try to code the following questions using an IDE of your choice (Spyder, IDLE, Pycharm, etc).  You will save those files on your computer for future reference. \n",
    "\n",
    "Each question has:\n",
    "\n",
    "- A video of your teacher live coding and explaining the solution\n",
    "- The final code used in the video.\n",
    "\n",
    "Try your best to solve the problems yourself without looking at the solutions."
   ]
  },
  {
   "cell_type": "markdown",
   "metadata": {},
   "source": [
    "### ICS3U Practice Question\n",
    "\n",
    "Name Your File:  “ICS3Uinformation.py” \n",
    "\n",
    "Write the code that displays the following\n",
    "\n",
    "- Your Name\n",
    "- Your School and School Board\n",
    "- Your Favorite Music, TV Show, Movie, Color\n",
    "- Two Additional Pieces of Information about yourself\n",
    "\n",
    "Make use of 3 escape characters when you do this and the the “end=” statement"
   ]
  },
  {
   "cell_type": "code",
   "execution_count": 11,
   "metadata": {},
   "outputs": [
    {
     "name": "stdout",
     "output_type": "stream",
     "text": [
      "\n",
      "\n",
      "\t\tJadyn Wu\n",
      "\t\tTIA \n",
      "\n",
      "\n",
      "My Favorite Music are:\n",
      "\t\"Engine Oil - ZUTOMAYO\" & \"Red - SiM\"\n",
      "\n",
      "I love all types of Music and Japanese Foods\n",
      "\n",
      "I have been teaching computer science since 2019.\n"
     ]
    }
   ],
   "source": [
    "# Example Solution\n",
    "print(\"\\n\\n\\t\\tJadyn Wu\")\n",
    "print(\"\\t\\tTIA \\n\")\n",
    "print(\"\\nMy Favorite Music are:\\n\\t\\\"Engine Oil - ZUTOMAYO\\\" & \\\"Red - SiM\\\"\")\n",
    "print(\"\\nI love all types of Music\",end = \" and \")\n",
    "print(\"Japanese Foods\\n\")\n",
    "print(\"I have been teaching computer science since 2019.\")"
   ]
  },
  {
   "cell_type": "markdown",
   "metadata": {},
   "source": [
    "### ICS3U Practice Question\n",
    "\n",
    "Name Your File:  “ICS3Ushape.py” \n",
    "\n",
    "Draw a picture of a cool shape using escape characters in your solution.  Something like the picture shown."
   ]
  },
  {
   "cell_type": "code",
   "execution_count": 8,
   "metadata": {},
   "outputs": [
    {
     "name": "stdout",
     "output_type": "stream",
     "text": [
      "I think it looks like a face\n",
      "\n",
      "\t \"- -\"\n",
      "\t  o o\n",
      "\t[- o -]\n",
      "\t  \\_/\n",
      "\t   -\n"
     ]
    }
   ],
   "source": [
    "# Example Solution\n",
    "print(\"I think it looks like a face\\n\")\n",
    "print(\"\\t \\\"- -\\\"\")\n",
    "print(\"\\t  o o\")\n",
    "print(\"\\t[- o -]\")\n",
    "print(\"\\t  \\\\_/\")\n",
    "print(\"\\t   -\")"
   ]
  }
 ],
 "metadata": {
  "kernelspec": {
   "display_name": "Python 3",
   "language": "python",
   "name": "python3"
  },
  "language_info": {
   "codemirror_mode": {
    "name": "ipython",
    "version": 3
   },
   "file_extension": ".py",
   "mimetype": "text/x-python",
   "name": "python",
   "nbconvert_exporter": "python",
   "pygments_lexer": "ipython3",
   "version": "3.12.5"
  }
 },
 "nbformat": 4,
 "nbformat_minor": 2
}
