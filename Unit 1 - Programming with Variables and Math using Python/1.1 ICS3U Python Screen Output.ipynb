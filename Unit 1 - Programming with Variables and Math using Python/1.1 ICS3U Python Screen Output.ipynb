{
 "cells": [
  {
   "cell_type": "markdown",
   "metadata": {},
   "source": [
    "# ICS3U Python Screen Output\n",
    "\n",
    "## ICS3U Learning Goals\n",
    "\n",
    "In this ICS3U Grade 11 Computer Science lesson you will be learning how to:\n",
    "\n",
    "Display messages for the user to the screen using a print statement\n",
    "Use escape characters in print statements"
   ]
  },
  {
   "cell_type": "markdown",
   "metadata": {},
   "source": [
    "<br>\n",
    "\n",
    "## Writing Messages to the Screen using Python\n",
    "\n",
    "Words or sentences in python are called Strings\n",
    "\n",
    "The command to display things to the screen is the print command\n",
    "\n",
    "```\n",
    "print()\n",
    "```\n",
    "\n",
    "The statement you want to print goes inside the print command brackets and is surrounded by either\n",
    "\n",
    "- double quotes or\n",
    "- single quotes\n",
    "\n",
    "Normally I stick to using double quotes because in other programming languages such as Java and C/C#/C++ that is the convention and single quotes are used for single characters in those languages."
   ]
  },
  {
   "cell_type": "markdown",
   "metadata": {},
   "source": [
    "## Interactive Learning Activity - Grade 11 Computer Science\n",
    "\n",
    "Type the following code into the Python Editor.\n",
    "\n",
    "```\n",
    "print(\"Hello World\")\n",
    "```"
   ]
  },
  {
   "cell_type": "code",
   "execution_count": 1,
   "metadata": {},
   "outputs": [],
   "source": [
    "# TODO: Type the code here:\n"
   ]
  },
  {
   "cell_type": "markdown",
   "metadata": {},
   "source": [
    "## Interactive Learning Activity - Grade 11 Computer Science\n",
    "Type the following code into the Python Editor.\n",
    "\n",
    "```\n",
    "print(\"Hello\")\n",
    "print(\"World\")\n",
    "```"
   ]
  },
  {
   "cell_type": "code",
   "execution_count": 2,
   "metadata": {},
   "outputs": [],
   "source": [
    "# TODO: Type the code here:\n"
   ]
  },
  {
   "cell_type": "markdown",
   "metadata": {},
   "source": [
    "If you want for some reason to use use multiple print statements but have them display on the same line you can use the end=”” command.   You can put any character you want in the double quotes and that will appear at the end of the print statement and not move the cursor to the next line.  "
   ]
  },
  {
   "cell_type": "markdown",
   "metadata": {},
   "source": [
    "## Interactive Learning Activity - Grade 11 Computer Science\n",
    "Type the following code into the Python Editor.\n",
    "\n",
    "```\n",
    "print(\"Hello\",end=\"\")\n",
    "print(\"World\")\n",
    "```"
   ]
  },
  {
   "cell_type": "code",
   "execution_count": 3,
   "metadata": {},
   "outputs": [],
   "source": [
    "# TODO: Type the code here:\n"
   ]
  },
  {
   "cell_type": "markdown",
   "metadata": {},
   "source": [
    "## Interactive Learning Activity - Grade 11 Computer Science\n",
    "A common error you might make is to forget a double quote (You always need a pair) or to forget a bracket (You always need a pair)\n",
    "\n",
    "Type the following code into the Python Editor and see what happens when you try to run it.\n",
    "\n",
    "```\n",
    "print(\"Hello\"\n",
    "```"
   ]
  },
  {
   "cell_type": "code",
   "execution_count": 4,
   "metadata": {},
   "outputs": [],
   "source": [
    "# TODO: Type the code here:\n"
   ]
  },
  {
   "cell_type": "markdown",
   "metadata": {},
   "source": [
    "Type the following code into the Python Editor and see what happens when you try to run it.\n",
    "\n",
    "```\n",
    "print(\"Hello)\n",
    "```"
   ]
  },
  {
   "cell_type": "code",
   "execution_count": 5,
   "metadata": {},
   "outputs": [],
   "source": [
    "# TODO: Type the code here:\n"
   ]
  },
  {
   "cell_type": "markdown",
   "metadata": {},
   "source": [
    "<br>\n",
    "\n",
    "Certain characters or print options need a special way to print.  These are called escape characters\n",
    "\n",
    "- Use \\” to print a double quote\n",
    "\n",
    "- Use \\’ to print a single quote\n",
    "\n",
    "- Use \\t to print a tab\n",
    "\n",
    "- Use \\n to go to the next line\n",
    "\n",
    "- Use \\\\ to print a slash "
   ]
  },
  {
   "cell_type": "markdown",
   "metadata": {},
   "source": [
    "## Interactive Learning Activity - Grade 11 Computer Science\n",
    "Type the following code into the Python Editor.\n",
    "\n",
    "```\n",
    "print(\"\\tBook Title\\n\\\"Harry Potter\\\"\")\n",
    "```"
   ]
  },
  {
   "cell_type": "code",
   "execution_count": 6,
   "metadata": {},
   "outputs": [],
   "source": [
    "# TODO: Type the code here:"
   ]
  },
  {
   "cell_type": "markdown",
   "metadata": {},
   "source": [
    "<br>\n",
    "\n",
    "## External Resources\n",
    "\n",
    "- [Python Documentation](https://www.w3schools.com/python/)\n",
    "\n",
    "- [Python Tutorial](https://www.learnpython.org/)\n",
    "\n",
    "- [Cool Python Lessons](https://realpython.com/)"
   ]
  },
  {
   "cell_type": "markdown",
   "metadata": {},
   "source": [
    "<br>\n",
    "\n",
    "<br>\n",
    "\n",
    "<br>\n",
    "\n",
    "## ICS3U Coding Questions\n",
    "\n",
    "Try to code the following questions using an IDE of your choice (Spyder, IDLE, Pycharm, etc).  You will save those files on your computer for future reference. \n",
    "\n",
    "Each question has:\n",
    "\n",
    "- A video of your teacher live coding and explaining the solution\n",
    "- The final code used in the video.\n",
    "\n",
    "Try your best to solve the problems yourself without looking at the solutions."
   ]
  },
  {
   "cell_type": "markdown",
   "metadata": {},
   "source": [
    "## 1.1 HW1: ICS3U Practice Question\n",
    "\n",
    "Name Your File:  “ICS3Uinformation.py” \n",
    "\n",
    "Write the code that displays the following\n",
    "\n",
    "- Your Name\n",
    "- Your School and School Board\n",
    "- Your Favorite Music, TV Show, Movie, Color\n",
    "- Two Additional Pieces of Information about yourself\n",
    "\n",
    "Make use of 3 escape characters when you do this and the the “end=” statement"
   ]
  },
  {
   "cell_type": "code",
   "execution_count": 7,
   "metadata": {},
   "outputs": [],
   "source": [
    "# TODO: Implement your Codes here:"
   ]
  },
  {
   "cell_type": "markdown",
   "metadata": {},
   "source": [
    "<br>\n",
    "\n",
    "## 1.1 HW2: ICS3U Practice Question\n",
    "\n",
    "Name Your File:  “ICS3Ushape.py” \n",
    "\n",
    "Draw a picture of a cool shape using escape characters in your solution.  Something like the picture shown."
   ]
  },
  {
   "cell_type": "code",
   "execution_count": 8,
   "metadata": {},
   "outputs": [],
   "source": [
    "# TODO: Implement your Codes here:"
   ]
  }
 ],
 "metadata": {
  "kernelspec": {
   "display_name": "Python 3",
   "language": "python",
   "name": "python3"
  },
  "language_info": {
   "codemirror_mode": {
    "name": "ipython",
    "version": 3
   },
   "file_extension": ".py",
   "mimetype": "text/x-python",
   "name": "python",
   "nbconvert_exporter": "python",
   "pygments_lexer": "ipython3",
   "version": "3.12.5"
  }
 },
 "nbformat": 4,
 "nbformat_minor": 2
}
