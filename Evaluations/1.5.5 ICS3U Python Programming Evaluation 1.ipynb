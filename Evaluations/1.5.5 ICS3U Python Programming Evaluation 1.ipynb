{
 "cells": [
  {
   "cell_type": "markdown",
   "metadata": {},
   "source": [
    "# ICS3U Python Programming Evaluation 1\n",
    "\n",
    "## Instructions\n",
    "\n",
    "In the final part of ICS3U Grade 11 Computer Science course you are going to do a little bit of research involving artificial intelligence and its applications\n",
    "\n",
    "<details>\n",
    "<summary>Overall Expectations Being Evaluated</summary>\n",
    "\n",
    "D1 – Environmental Stewardship\n",
    "\n",
    "- Describe how computer science concepts can be used to improve problematic environmental issues\n",
    "\n",
    "D2 – Exploring Computer Science\n",
    "\n",
    "- Demonstrate an understanding of an emergent area of computer science\n",
    "\n",
    "D3 – Post Secondary Opportunities\n",
    "\n",
    "- Demonstrate an understanding of important skills and educational requirements for computer science careers\n",
    "</details>"
   ]
  },
  {
   "cell_type": "markdown",
   "metadata": {},
   "source": [
    "<br>\n",
    "\n",
    "# Part 1 – AI in Modern Media\n",
    "\n",
    "In this section you are going to demonstrate your understanding of Strong and Weak AI and the the Turing Test\n",
    "\n",
    "Humanity often uses the arts and story telling to reflect on important issues to society and answer question about who we are and where the future will take us. The concept or artificial intelligence has greatly captured human interest over the last century. Many stories explore how to determine if a machine is intelligent, and whether to extend rights of beings with Artificial Intelligence.\n",
    " \n",
    "We want to look at the use of AI in Books and Movies and TV Shows.   Pick a movie / Book / Game that illustrates some type of AI Character.  You can pick anything but some examples are:  (Ex Machina, Data (Star Trek TNG), IRobot, A.I., 2001: A Space Oddessy, 9, WALL-E, Interstellar, etc )\n",
    " \n",
    "Write a report / essay (500 to 1000 words) with your thoughts to the following :\n",
    "\n",
    "- Summarize the character and story. How did the AI character come into existence?\n",
    "\n",
    "- What is its purpose? How do the AI and other characters relate to each other?\n",
    "\n",
    "- Does the character consider themselves to be intelligent? Do the other characters?\n",
    "\n",
    "- Discuss how tests of Artificial Intelligence are conducted or can be conducted in this story.\n",
    "\n",
    "- How successful would the Turing Test be in determining whether this AI is truly artificial intelligence?\n",
    "\n",
    "- Is this character an example of weak AI or strong AI?"
   ]
  },
  {
   "cell_type": "code",
   "execution_count": null,
   "metadata": {},
   "outputs": [],
   "source": []
  },
  {
   "cell_type": "markdown",
   "metadata": {},
   "source": [
    "<br>\n",
    "\n",
    "# Part 2 – Careers and Education\n",
    "\n",
    "Research career choices in computer science (Any Field, doesn’t need to be AI) in your area, Canada, and internationally. Compare wages, and other statistics. Choose one job advertisement that could interest you as a possible career and include it in your assignment.\n",
    "\n",
    "1. Why did you choose this job?\n",
    "\n",
    "2. What education is needed for this job. Find a University/College program where you can get the required education. What are the prerequisites for the program?\n",
    "\n",
    "3. Is experience needed for this job? Research ways to gain experience in this field: co-op, internship, volunteering, mentoring, job shadowing etc. Explain a specific way you could gain experience.\n",
    "\n",
    "4. Find the essential skills needed for the job from your advertisement. Do you have these skills? Are there any skills that you need to develop further?"
   ]
  },
  {
   "cell_type": "code",
   "execution_count": null,
   "metadata": {},
   "outputs": [],
   "source": [
    "Jobs in computer science include data science, computer programming, software engineer, hardware engineer, web developer etc. I would choose data science, more specifically, data science lecturer in universities as I like teaching a field that is closely tied to evoluting existing technology.\n",
    "A masters degree in data science, computer science, statistics, or another related field. You can get the required education at The University of Waterloo.\n",
    "Yes, an average of 2-4 years of experience is required to become a data science lecturer. Co-ops are the best way to get experience as you get not only practical experience in a company that requires high standards, but also the required theoretical information to pursure the career of a data science lecturer.\n",
    "The skills required to be a data science lecturer is to understand and apply algorithms, spotting patterns and relationships within data, storytelling (elaboration) with data, python and R programming, strong understanding of SQL, etc. I can spot relationships within data and properly elaborate them, but I will need work with python and R programming, SQL understanding, and applying algorithms.\n"
   ]
  },
  {
   "cell_type": "markdown",
   "metadata": {},
   "source": [
    "<br>\n",
    "\n",
    "# Part 3 – Environmental Issues\n",
    "\n",
    "In 1 – 2 paragraphs\n",
    "\n",
    "- How can AI be used to improve problematic environmental issues facing society"
   ]
  },
  {
   "cell_type": "code",
   "execution_count": null,
   "metadata": {},
   "outputs": [],
   "source": [
    "Artificial intelligence is a neccesity in our daily lives and is used in everyday activities. AI can and is also being used to tackle enviromental issues too, whether its the weather, the\n",
    "pollution, the well being of living organisms, or maintenance of general resources. Currently, scientists are using this essential tool to predict weather around the globe, this could help us\n",
    "grasp what weather is to come next, and if so, what we should do about it. They are also using AI for monitoring animals living in a specific habitat, this way, we could pinpoint any species that\n",
    "are in danger of extinction and so we could effectively conservate wildlife. Pollution control and water management are also monitored by artificial intelligence, they track the pollution in the\n",
    "air, the ground, the water, etc, which is essential for not only ours, but other organisms' well being which reroutes to the conservation of wildlife. Air pollution is more of a significant \n",
    "contributor to global warming as many greenhouse gases can accumulate in the air which can trap heat, this leads to heatwaves, metling of glaciers which can cause floods, avalanches, which ties\n",
    "back to weather etc. The efficiency of energy consumption and other resources are also checked by artificial intelligence which helps control and predict the demand of everything. The insight of \n",
    "people on new enviromental policies is also collected by AI and provided, this way, the opinions chosen by the people and potential ideas are taken in for review and possibly implemented upon.\n",
    "These are few of the many purposes artificial intelligence serves to us in combatting enviromental issues.\n",
    "\n",
    "\n"
   ]
  }
 ],
 "metadata": {
  "language_info": {
   "name": "python"
  }
 },
 "nbformat": 4,
 "nbformat_minor": 2
}
